{
  "cells": [
    {
      "cell_type": "code",
      "execution_count": 1,
      "metadata": {
        "id": "92GEJ1LRS1qZ"
      },
      "outputs": [],
      "source": [
        "import numpy as np\n",
        "import pandas as pd\n",
        "import matplotlib.pyplot as plt\n",
        "import seaborn as sns\n",
        "import h5py\n",
        "import tensorflow as tf\n",
        "from sklearn.model_selection import train_test_split\n",
        "from sklearn.metrics import confusion_matrix, recall_score, f1_score, roc_auc_score, average_precision_score\n",
        "from tensorflow.keras.callbacks import EarlyStopping\n",
        "from imblearn.over_sampling import BorderlineSMOTE,SMOTE\n",
        "from sklearn.preprocessing import StandardScaler\n",
        "from sklearn.utils.class_weight import compute_class_weight\n",
        "\n"
      ]
    },
    {
      "cell_type": "code",
      "execution_count": 2,
      "metadata": {
        "colab": {
          "base_uri": "https://localhost:8080/"
        },
        "id": "Hwlpd4hNS4xx",
        "outputId": "e2193a33-a23f-455b-ae26-914217e1343e"
      },
      "outputs": [
        {
          "output_type": "stream",
          "name": "stdout",
          "text": [
            "list of datasets in this file ['features']\n",
            "Shape of dataset1 (946, 40, 7, 500)\n"
          ]
        }
      ],
      "source": [
        "\"\"\"https://drive.google.com/file/d/1hPkqP4rcfbtwWalXJPWD7wueHbvDWNE4/view?usp=sharing\"\"\"\n",
        "with h5py.File('/content/drive/MyDrive/projet final/X_train_new.h5', 'r') as f:\n",
        "  ls=list(f.keys())\n",
        "  print(f\"list of datasets in this file {ls}\")\n",
        "  data=f.get('features')\n",
        "  dataset=np.array(data)\n",
        "  print(f\"Shape of dataset1 {dataset.shape}\")\n"
      ]
    },
    {
      "cell_type": "code",
      "execution_count": 3,
      "metadata": {
        "colab": {
          "base_uri": "https://localhost:8080/"
        },
        "id": "GtCnNFgVNV42",
        "outputId": "88cba891-bf08-4b3e-b2d5-0683b310715a"
      },
      "outputs": [
        {
          "output_type": "stream",
          "name": "stdout",
          "text": [
            "list of datasets in this file ['features']\n",
            "Shape of dataset1 (946, 40, 7, 500)\n"
          ]
        }
      ],
      "source": [
        "#dataset de test\n",
        "\"\"\"https://drive.google.com/file/d/1hPkqP4rcfbtwWalXJPWD7wueHbvDWNE4/view?usp=sharing\"\"\"\n",
        "with h5py.File('/content/drive/MyDrive/projet final/X_test_new.h5', 'r') as f:\n",
        "  ls=list(f.keys())\n",
        "  print(f\"list of datasets in this file {ls}\")\n",
        "  data_test=f.get('features')\n",
        "  dataset_test=np.array(data_test)\n",
        "  print(f\"Shape of dataset1 {dataset_test.shape}\")\n",
        "\n"
      ]
    },
    {
      "cell_type": "code",
      "execution_count": 4,
      "metadata": {
        "id": "qYTN7s4RUUap"
      },
      "outputs": [],
      "source": [
        "y_set=pd.read_csv('/content/drive/MyDrive/projet final/y_train_AvCsavx.csv')"
      ]
    },
    {
      "cell_type": "code",
      "execution_count": 5,
      "metadata": {
        "colab": {
          "base_uri": "https://localhost:8080/",
          "height": 206
        },
        "id": "UDk5qiz8nzRS",
        "outputId": "f34df71c-f690-4c12-a481-8c5e893b37c7"
      },
      "outputs": [
        {
          "output_type": "execute_result",
          "data": {
            "text/plain": [
              "   id  label\n",
              "0   0      0\n",
              "1   1      1\n",
              "2   2      0\n",
              "3   3      1\n",
              "4   4      0"
            ],
            "text/html": [
              "\n",
              "  <div id=\"df-48f7eb54-d558-45b0-a086-ed268855e880\" class=\"colab-df-container\">\n",
              "    <div>\n",
              "<style scoped>\n",
              "    .dataframe tbody tr th:only-of-type {\n",
              "        vertical-align: middle;\n",
              "    }\n",
              "\n",
              "    .dataframe tbody tr th {\n",
              "        vertical-align: top;\n",
              "    }\n",
              "\n",
              "    .dataframe thead th {\n",
              "        text-align: right;\n",
              "    }\n",
              "</style>\n",
              "<table border=\"1\" class=\"dataframe\">\n",
              "  <thead>\n",
              "    <tr style=\"text-align: right;\">\n",
              "      <th></th>\n",
              "      <th>id</th>\n",
              "      <th>label</th>\n",
              "    </tr>\n",
              "  </thead>\n",
              "  <tbody>\n",
              "    <tr>\n",
              "      <th>0</th>\n",
              "      <td>0</td>\n",
              "      <td>0</td>\n",
              "    </tr>\n",
              "    <tr>\n",
              "      <th>1</th>\n",
              "      <td>1</td>\n",
              "      <td>1</td>\n",
              "    </tr>\n",
              "    <tr>\n",
              "      <th>2</th>\n",
              "      <td>2</td>\n",
              "      <td>0</td>\n",
              "    </tr>\n",
              "    <tr>\n",
              "      <th>3</th>\n",
              "      <td>3</td>\n",
              "      <td>1</td>\n",
              "    </tr>\n",
              "    <tr>\n",
              "      <th>4</th>\n",
              "      <td>4</td>\n",
              "      <td>0</td>\n",
              "    </tr>\n",
              "  </tbody>\n",
              "</table>\n",
              "</div>\n",
              "    <div class=\"colab-df-buttons\">\n",
              "\n",
              "  <div class=\"colab-df-container\">\n",
              "    <button class=\"colab-df-convert\" onclick=\"convertToInteractive('df-48f7eb54-d558-45b0-a086-ed268855e880')\"\n",
              "            title=\"Convert this dataframe to an interactive table.\"\n",
              "            style=\"display:none;\">\n",
              "\n",
              "  <svg xmlns=\"http://www.w3.org/2000/svg\" height=\"24px\" viewBox=\"0 -960 960 960\">\n",
              "    <path d=\"M120-120v-720h720v720H120Zm60-500h600v-160H180v160Zm220 220h160v-160H400v160Zm0 220h160v-160H400v160ZM180-400h160v-160H180v160Zm440 0h160v-160H620v160ZM180-180h160v-160H180v160Zm440 0h160v-160H620v160Z\"/>\n",
              "  </svg>\n",
              "    </button>\n",
              "\n",
              "  <style>\n",
              "    .colab-df-container {\n",
              "      display:flex;\n",
              "      gap: 12px;\n",
              "    }\n",
              "\n",
              "    .colab-df-convert {\n",
              "      background-color: #E8F0FE;\n",
              "      border: none;\n",
              "      border-radius: 50%;\n",
              "      cursor: pointer;\n",
              "      display: none;\n",
              "      fill: #1967D2;\n",
              "      height: 32px;\n",
              "      padding: 0 0 0 0;\n",
              "      width: 32px;\n",
              "    }\n",
              "\n",
              "    .colab-df-convert:hover {\n",
              "      background-color: #E2EBFA;\n",
              "      box-shadow: 0px 1px 2px rgba(60, 64, 67, 0.3), 0px 1px 3px 1px rgba(60, 64, 67, 0.15);\n",
              "      fill: #174EA6;\n",
              "    }\n",
              "\n",
              "    .colab-df-buttons div {\n",
              "      margin-bottom: 4px;\n",
              "    }\n",
              "\n",
              "    [theme=dark] .colab-df-convert {\n",
              "      background-color: #3B4455;\n",
              "      fill: #D2E3FC;\n",
              "    }\n",
              "\n",
              "    [theme=dark] .colab-df-convert:hover {\n",
              "      background-color: #434B5C;\n",
              "      box-shadow: 0px 1px 3px 1px rgba(0, 0, 0, 0.15);\n",
              "      filter: drop-shadow(0px 1px 2px rgba(0, 0, 0, 0.3));\n",
              "      fill: #FFFFFF;\n",
              "    }\n",
              "  </style>\n",
              "\n",
              "    <script>\n",
              "      const buttonEl =\n",
              "        document.querySelector('#df-48f7eb54-d558-45b0-a086-ed268855e880 button.colab-df-convert');\n",
              "      buttonEl.style.display =\n",
              "        google.colab.kernel.accessAllowed ? 'block' : 'none';\n",
              "\n",
              "      async function convertToInteractive(key) {\n",
              "        const element = document.querySelector('#df-48f7eb54-d558-45b0-a086-ed268855e880');\n",
              "        const dataTable =\n",
              "          await google.colab.kernel.invokeFunction('convertToInteractive',\n",
              "                                                    [key], {});\n",
              "        if (!dataTable) return;\n",
              "\n",
              "        const docLinkHtml = 'Like what you see? Visit the ' +\n",
              "          '<a target=\"_blank\" href=https://colab.research.google.com/notebooks/data_table.ipynb>data table notebook</a>'\n",
              "          + ' to learn more about interactive tables.';\n",
              "        element.innerHTML = '';\n",
              "        dataTable['output_type'] = 'display_data';\n",
              "        await google.colab.output.renderOutput(dataTable, element);\n",
              "        const docLink = document.createElement('div');\n",
              "        docLink.innerHTML = docLinkHtml;\n",
              "        element.appendChild(docLink);\n",
              "      }\n",
              "    </script>\n",
              "  </div>\n",
              "\n",
              "\n",
              "<div id=\"df-94ddd802-6748-4198-9b1e-eeb8c7f9af5b\">\n",
              "  <button class=\"colab-df-quickchart\" onclick=\"quickchart('df-94ddd802-6748-4198-9b1e-eeb8c7f9af5b')\"\n",
              "            title=\"Suggest charts\"\n",
              "            style=\"display:none;\">\n",
              "\n",
              "<svg xmlns=\"http://www.w3.org/2000/svg\" height=\"24px\"viewBox=\"0 0 24 24\"\n",
              "     width=\"24px\">\n",
              "    <g>\n",
              "        <path d=\"M19 3H5c-1.1 0-2 .9-2 2v14c0 1.1.9 2 2 2h14c1.1 0 2-.9 2-2V5c0-1.1-.9-2-2-2zM9 17H7v-7h2v7zm4 0h-2V7h2v10zm4 0h-2v-4h2v4z\"/>\n",
              "    </g>\n",
              "</svg>\n",
              "  </button>\n",
              "\n",
              "<style>\n",
              "  .colab-df-quickchart {\n",
              "      --bg-color: #E8F0FE;\n",
              "      --fill-color: #1967D2;\n",
              "      --hover-bg-color: #E2EBFA;\n",
              "      --hover-fill-color: #174EA6;\n",
              "      --disabled-fill-color: #AAA;\n",
              "      --disabled-bg-color: #DDD;\n",
              "  }\n",
              "\n",
              "  [theme=dark] .colab-df-quickchart {\n",
              "      --bg-color: #3B4455;\n",
              "      --fill-color: #D2E3FC;\n",
              "      --hover-bg-color: #434B5C;\n",
              "      --hover-fill-color: #FFFFFF;\n",
              "      --disabled-bg-color: #3B4455;\n",
              "      --disabled-fill-color: #666;\n",
              "  }\n",
              "\n",
              "  .colab-df-quickchart {\n",
              "    background-color: var(--bg-color);\n",
              "    border: none;\n",
              "    border-radius: 50%;\n",
              "    cursor: pointer;\n",
              "    display: none;\n",
              "    fill: var(--fill-color);\n",
              "    height: 32px;\n",
              "    padding: 0;\n",
              "    width: 32px;\n",
              "  }\n",
              "\n",
              "  .colab-df-quickchart:hover {\n",
              "    background-color: var(--hover-bg-color);\n",
              "    box-shadow: 0 1px 2px rgba(60, 64, 67, 0.3), 0 1px 3px 1px rgba(60, 64, 67, 0.15);\n",
              "    fill: var(--button-hover-fill-color);\n",
              "  }\n",
              "\n",
              "  .colab-df-quickchart-complete:disabled,\n",
              "  .colab-df-quickchart-complete:disabled:hover {\n",
              "    background-color: var(--disabled-bg-color);\n",
              "    fill: var(--disabled-fill-color);\n",
              "    box-shadow: none;\n",
              "  }\n",
              "\n",
              "  .colab-df-spinner {\n",
              "    border: 2px solid var(--fill-color);\n",
              "    border-color: transparent;\n",
              "    border-bottom-color: var(--fill-color);\n",
              "    animation:\n",
              "      spin 1s steps(1) infinite;\n",
              "  }\n",
              "\n",
              "  @keyframes spin {\n",
              "    0% {\n",
              "      border-color: transparent;\n",
              "      border-bottom-color: var(--fill-color);\n",
              "      border-left-color: var(--fill-color);\n",
              "    }\n",
              "    20% {\n",
              "      border-color: transparent;\n",
              "      border-left-color: var(--fill-color);\n",
              "      border-top-color: var(--fill-color);\n",
              "    }\n",
              "    30% {\n",
              "      border-color: transparent;\n",
              "      border-left-color: var(--fill-color);\n",
              "      border-top-color: var(--fill-color);\n",
              "      border-right-color: var(--fill-color);\n",
              "    }\n",
              "    40% {\n",
              "      border-color: transparent;\n",
              "      border-right-color: var(--fill-color);\n",
              "      border-top-color: var(--fill-color);\n",
              "    }\n",
              "    60% {\n",
              "      border-color: transparent;\n",
              "      border-right-color: var(--fill-color);\n",
              "    }\n",
              "    80% {\n",
              "      border-color: transparent;\n",
              "      border-right-color: var(--fill-color);\n",
              "      border-bottom-color: var(--fill-color);\n",
              "    }\n",
              "    90% {\n",
              "      border-color: transparent;\n",
              "      border-bottom-color: var(--fill-color);\n",
              "    }\n",
              "  }\n",
              "</style>\n",
              "\n",
              "  <script>\n",
              "    async function quickchart(key) {\n",
              "      const quickchartButtonEl =\n",
              "        document.querySelector('#' + key + ' button');\n",
              "      quickchartButtonEl.disabled = true;  // To prevent multiple clicks.\n",
              "      quickchartButtonEl.classList.add('colab-df-spinner');\n",
              "      try {\n",
              "        const charts = await google.colab.kernel.invokeFunction(\n",
              "            'suggestCharts', [key], {});\n",
              "      } catch (error) {\n",
              "        console.error('Error during call to suggestCharts:', error);\n",
              "      }\n",
              "      quickchartButtonEl.classList.remove('colab-df-spinner');\n",
              "      quickchartButtonEl.classList.add('colab-df-quickchart-complete');\n",
              "    }\n",
              "    (() => {\n",
              "      let quickchartButtonEl =\n",
              "        document.querySelector('#df-94ddd802-6748-4198-9b1e-eeb8c7f9af5b button');\n",
              "      quickchartButtonEl.style.display =\n",
              "        google.colab.kernel.accessAllowed ? 'block' : 'none';\n",
              "    })();\n",
              "  </script>\n",
              "</div>\n",
              "    </div>\n",
              "  </div>\n"
            ],
            "application/vnd.google.colaboratory.intrinsic+json": {
              "type": "dataframe",
              "variable_name": "y_set",
              "summary": "{\n  \"name\": \"y_set\",\n  \"rows\": 946,\n  \"fields\": [\n    {\n      \"column\": \"id\",\n      \"properties\": {\n        \"dtype\": \"number\",\n        \"std\": 273,\n        \"min\": 0,\n        \"max\": 945,\n        \"num_unique_values\": 946,\n        \"samples\": [\n          327,\n          30,\n          820\n        ],\n        \"semantic_type\": \"\",\n        \"description\": \"\"\n      }\n    },\n    {\n      \"column\": \"label\",\n      \"properties\": {\n        \"dtype\": \"number\",\n        \"std\": 0,\n        \"min\": 0,\n        \"max\": 1,\n        \"num_unique_values\": 2,\n        \"samples\": [\n          1,\n          0\n        ],\n        \"semantic_type\": \"\",\n        \"description\": \"\"\n      }\n    }\n  ]\n}"
            }
          },
          "metadata": {},
          "execution_count": 5
        }
      ],
      "source": [
        "y_set.head()"
      ]
    },
    {
      "cell_type": "code",
      "execution_count": 6,
      "metadata": {
        "id": "6FlRGyq2D-3i"
      },
      "outputs": [],
      "source": [
        "# Supprimer la colonne 'id' de la variable cible Y\n",
        "Y = y_set.drop('id', axis=1)"
      ]
    },
    {
      "cell_type": "code",
      "execution_count": 7,
      "metadata": {
        "colab": {
          "base_uri": "https://localhost:8080/",
          "height": 206
        },
        "id": "X4ILNrWfflmx",
        "outputId": "028fcab2-56d3-47ca-f61f-b89732b0f611"
      },
      "outputs": [
        {
          "output_type": "execute_result",
          "data": {
            "text/plain": [
              "   label\n",
              "0      0\n",
              "1      1\n",
              "2      0\n",
              "3      1\n",
              "4      0"
            ],
            "text/html": [
              "\n",
              "  <div id=\"df-64ae90e9-b3a3-461e-81a9-596598f46ad3\" class=\"colab-df-container\">\n",
              "    <div>\n",
              "<style scoped>\n",
              "    .dataframe tbody tr th:only-of-type {\n",
              "        vertical-align: middle;\n",
              "    }\n",
              "\n",
              "    .dataframe tbody tr th {\n",
              "        vertical-align: top;\n",
              "    }\n",
              "\n",
              "    .dataframe thead th {\n",
              "        text-align: right;\n",
              "    }\n",
              "</style>\n",
              "<table border=\"1\" class=\"dataframe\">\n",
              "  <thead>\n",
              "    <tr style=\"text-align: right;\">\n",
              "      <th></th>\n",
              "      <th>label</th>\n",
              "    </tr>\n",
              "  </thead>\n",
              "  <tbody>\n",
              "    <tr>\n",
              "      <th>0</th>\n",
              "      <td>0</td>\n",
              "    </tr>\n",
              "    <tr>\n",
              "      <th>1</th>\n",
              "      <td>1</td>\n",
              "    </tr>\n",
              "    <tr>\n",
              "      <th>2</th>\n",
              "      <td>0</td>\n",
              "    </tr>\n",
              "    <tr>\n",
              "      <th>3</th>\n",
              "      <td>1</td>\n",
              "    </tr>\n",
              "    <tr>\n",
              "      <th>4</th>\n",
              "      <td>0</td>\n",
              "    </tr>\n",
              "  </tbody>\n",
              "</table>\n",
              "</div>\n",
              "    <div class=\"colab-df-buttons\">\n",
              "\n",
              "  <div class=\"colab-df-container\">\n",
              "    <button class=\"colab-df-convert\" onclick=\"convertToInteractive('df-64ae90e9-b3a3-461e-81a9-596598f46ad3')\"\n",
              "            title=\"Convert this dataframe to an interactive table.\"\n",
              "            style=\"display:none;\">\n",
              "\n",
              "  <svg xmlns=\"http://www.w3.org/2000/svg\" height=\"24px\" viewBox=\"0 -960 960 960\">\n",
              "    <path d=\"M120-120v-720h720v720H120Zm60-500h600v-160H180v160Zm220 220h160v-160H400v160Zm0 220h160v-160H400v160ZM180-400h160v-160H180v160Zm440 0h160v-160H620v160ZM180-180h160v-160H180v160Zm440 0h160v-160H620v160Z\"/>\n",
              "  </svg>\n",
              "    </button>\n",
              "\n",
              "  <style>\n",
              "    .colab-df-container {\n",
              "      display:flex;\n",
              "      gap: 12px;\n",
              "    }\n",
              "\n",
              "    .colab-df-convert {\n",
              "      background-color: #E8F0FE;\n",
              "      border: none;\n",
              "      border-radius: 50%;\n",
              "      cursor: pointer;\n",
              "      display: none;\n",
              "      fill: #1967D2;\n",
              "      height: 32px;\n",
              "      padding: 0 0 0 0;\n",
              "      width: 32px;\n",
              "    }\n",
              "\n",
              "    .colab-df-convert:hover {\n",
              "      background-color: #E2EBFA;\n",
              "      box-shadow: 0px 1px 2px rgba(60, 64, 67, 0.3), 0px 1px 3px 1px rgba(60, 64, 67, 0.15);\n",
              "      fill: #174EA6;\n",
              "    }\n",
              "\n",
              "    .colab-df-buttons div {\n",
              "      margin-bottom: 4px;\n",
              "    }\n",
              "\n",
              "    [theme=dark] .colab-df-convert {\n",
              "      background-color: #3B4455;\n",
              "      fill: #D2E3FC;\n",
              "    }\n",
              "\n",
              "    [theme=dark] .colab-df-convert:hover {\n",
              "      background-color: #434B5C;\n",
              "      box-shadow: 0px 1px 3px 1px rgba(0, 0, 0, 0.15);\n",
              "      filter: drop-shadow(0px 1px 2px rgba(0, 0, 0, 0.3));\n",
              "      fill: #FFFFFF;\n",
              "    }\n",
              "  </style>\n",
              "\n",
              "    <script>\n",
              "      const buttonEl =\n",
              "        document.querySelector('#df-64ae90e9-b3a3-461e-81a9-596598f46ad3 button.colab-df-convert');\n",
              "      buttonEl.style.display =\n",
              "        google.colab.kernel.accessAllowed ? 'block' : 'none';\n",
              "\n",
              "      async function convertToInteractive(key) {\n",
              "        const element = document.querySelector('#df-64ae90e9-b3a3-461e-81a9-596598f46ad3');\n",
              "        const dataTable =\n",
              "          await google.colab.kernel.invokeFunction('convertToInteractive',\n",
              "                                                    [key], {});\n",
              "        if (!dataTable) return;\n",
              "\n",
              "        const docLinkHtml = 'Like what you see? Visit the ' +\n",
              "          '<a target=\"_blank\" href=https://colab.research.google.com/notebooks/data_table.ipynb>data table notebook</a>'\n",
              "          + ' to learn more about interactive tables.';\n",
              "        element.innerHTML = '';\n",
              "        dataTable['output_type'] = 'display_data';\n",
              "        await google.colab.output.renderOutput(dataTable, element);\n",
              "        const docLink = document.createElement('div');\n",
              "        docLink.innerHTML = docLinkHtml;\n",
              "        element.appendChild(docLink);\n",
              "      }\n",
              "    </script>\n",
              "  </div>\n",
              "\n",
              "\n",
              "<div id=\"df-372e2002-7951-48b6-8173-3067b47be2ad\">\n",
              "  <button class=\"colab-df-quickchart\" onclick=\"quickchart('df-372e2002-7951-48b6-8173-3067b47be2ad')\"\n",
              "            title=\"Suggest charts\"\n",
              "            style=\"display:none;\">\n",
              "\n",
              "<svg xmlns=\"http://www.w3.org/2000/svg\" height=\"24px\"viewBox=\"0 0 24 24\"\n",
              "     width=\"24px\">\n",
              "    <g>\n",
              "        <path d=\"M19 3H5c-1.1 0-2 .9-2 2v14c0 1.1.9 2 2 2h14c1.1 0 2-.9 2-2V5c0-1.1-.9-2-2-2zM9 17H7v-7h2v7zm4 0h-2V7h2v10zm4 0h-2v-4h2v4z\"/>\n",
              "    </g>\n",
              "</svg>\n",
              "  </button>\n",
              "\n",
              "<style>\n",
              "  .colab-df-quickchart {\n",
              "      --bg-color: #E8F0FE;\n",
              "      --fill-color: #1967D2;\n",
              "      --hover-bg-color: #E2EBFA;\n",
              "      --hover-fill-color: #174EA6;\n",
              "      --disabled-fill-color: #AAA;\n",
              "      --disabled-bg-color: #DDD;\n",
              "  }\n",
              "\n",
              "  [theme=dark] .colab-df-quickchart {\n",
              "      --bg-color: #3B4455;\n",
              "      --fill-color: #D2E3FC;\n",
              "      --hover-bg-color: #434B5C;\n",
              "      --hover-fill-color: #FFFFFF;\n",
              "      --disabled-bg-color: #3B4455;\n",
              "      --disabled-fill-color: #666;\n",
              "  }\n",
              "\n",
              "  .colab-df-quickchart {\n",
              "    background-color: var(--bg-color);\n",
              "    border: none;\n",
              "    border-radius: 50%;\n",
              "    cursor: pointer;\n",
              "    display: none;\n",
              "    fill: var(--fill-color);\n",
              "    height: 32px;\n",
              "    padding: 0;\n",
              "    width: 32px;\n",
              "  }\n",
              "\n",
              "  .colab-df-quickchart:hover {\n",
              "    background-color: var(--hover-bg-color);\n",
              "    box-shadow: 0 1px 2px rgba(60, 64, 67, 0.3), 0 1px 3px 1px rgba(60, 64, 67, 0.15);\n",
              "    fill: var(--button-hover-fill-color);\n",
              "  }\n",
              "\n",
              "  .colab-df-quickchart-complete:disabled,\n",
              "  .colab-df-quickchart-complete:disabled:hover {\n",
              "    background-color: var(--disabled-bg-color);\n",
              "    fill: var(--disabled-fill-color);\n",
              "    box-shadow: none;\n",
              "  }\n",
              "\n",
              "  .colab-df-spinner {\n",
              "    border: 2px solid var(--fill-color);\n",
              "    border-color: transparent;\n",
              "    border-bottom-color: var(--fill-color);\n",
              "    animation:\n",
              "      spin 1s steps(1) infinite;\n",
              "  }\n",
              "\n",
              "  @keyframes spin {\n",
              "    0% {\n",
              "      border-color: transparent;\n",
              "      border-bottom-color: var(--fill-color);\n",
              "      border-left-color: var(--fill-color);\n",
              "    }\n",
              "    20% {\n",
              "      border-color: transparent;\n",
              "      border-left-color: var(--fill-color);\n",
              "      border-top-color: var(--fill-color);\n",
              "    }\n",
              "    30% {\n",
              "      border-color: transparent;\n",
              "      border-left-color: var(--fill-color);\n",
              "      border-top-color: var(--fill-color);\n",
              "      border-right-color: var(--fill-color);\n",
              "    }\n",
              "    40% {\n",
              "      border-color: transparent;\n",
              "      border-right-color: var(--fill-color);\n",
              "      border-top-color: var(--fill-color);\n",
              "    }\n",
              "    60% {\n",
              "      border-color: transparent;\n",
              "      border-right-color: var(--fill-color);\n",
              "    }\n",
              "    80% {\n",
              "      border-color: transparent;\n",
              "      border-right-color: var(--fill-color);\n",
              "      border-bottom-color: var(--fill-color);\n",
              "    }\n",
              "    90% {\n",
              "      border-color: transparent;\n",
              "      border-bottom-color: var(--fill-color);\n",
              "    }\n",
              "  }\n",
              "</style>\n",
              "\n",
              "  <script>\n",
              "    async function quickchart(key) {\n",
              "      const quickchartButtonEl =\n",
              "        document.querySelector('#' + key + ' button');\n",
              "      quickchartButtonEl.disabled = true;  // To prevent multiple clicks.\n",
              "      quickchartButtonEl.classList.add('colab-df-spinner');\n",
              "      try {\n",
              "        const charts = await google.colab.kernel.invokeFunction(\n",
              "            'suggestCharts', [key], {});\n",
              "      } catch (error) {\n",
              "        console.error('Error during call to suggestCharts:', error);\n",
              "      }\n",
              "      quickchartButtonEl.classList.remove('colab-df-spinner');\n",
              "      quickchartButtonEl.classList.add('colab-df-quickchart-complete');\n",
              "    }\n",
              "    (() => {\n",
              "      let quickchartButtonEl =\n",
              "        document.querySelector('#df-372e2002-7951-48b6-8173-3067b47be2ad button');\n",
              "      quickchartButtonEl.style.display =\n",
              "        google.colab.kernel.accessAllowed ? 'block' : 'none';\n",
              "    })();\n",
              "  </script>\n",
              "</div>\n",
              "    </div>\n",
              "  </div>\n"
            ],
            "application/vnd.google.colaboratory.intrinsic+json": {
              "type": "dataframe",
              "variable_name": "Y",
              "summary": "{\n  \"name\": \"Y\",\n  \"rows\": 946,\n  \"fields\": [\n    {\n      \"column\": \"label\",\n      \"properties\": {\n        \"dtype\": \"number\",\n        \"std\": 0,\n        \"min\": 0,\n        \"max\": 1,\n        \"num_unique_values\": 2,\n        \"samples\": [\n          1,\n          0\n        ],\n        \"semantic_type\": \"\",\n        \"description\": \"\"\n      }\n    }\n  ]\n}"
            }
          },
          "metadata": {},
          "execution_count": 7
        }
      ],
      "source": [
        "Y.head()"
      ]
    },
    {
      "cell_type": "code",
      "execution_count": 8,
      "metadata": {
        "id": "-jo3CuU5UX-A"
      },
      "outputs": [],
      "source": [
        "#normalized_dataset = tf.keras.utils.normalize(dataset)\n"
      ]
    },
    {
      "cell_type": "code",
      "execution_count": 9,
      "metadata": {
        "id": "YjavPNZjUXsi"
      },
      "outputs": [],
      "source": [
        "#normalized_dataset = np.array(normalized_dataset)\n",
        "#normalized_dataset\n"
      ]
    },
    {
      "cell_type": "code",
      "execution_count": 10,
      "metadata": {
        "id": "5t7l64X6J-rC"
      },
      "outputs": [],
      "source": [
        "Y=np.array(Y['label'])"
      ]
    },
    {
      "cell_type": "code",
      "source": [
        "def z_score_normalization(etensor):\n",
        "  mean = etensor.mean(axis=(1, 2, 3), keepdims=True)\n",
        "  # Calcul de la moyenne sur les dimensions échantillons\n",
        "  std = etensor.std(axis=(1, 2, 3), keepdims=True)\n",
        "  # Calcul de l'écart-type sur les dimensions échantillons\n",
        "  normalized_tensor = (etensor - mean) / std # Normalisation z-score\n",
        "  return normalized_tensor"
      ],
      "metadata": {
        "id": "C2BChjIbN9kB"
      },
      "execution_count": 11,
      "outputs": []
    },
    {
      "cell_type": "code",
      "source": [
        "normalized_dataset=z_score_normalization(dataset)"
      ],
      "metadata": {
        "id": "sDSK3iBKOCIN"
      },
      "execution_count": 12,
      "outputs": []
    },
    {
      "cell_type": "code",
      "source": [
        "#normalized_dataset"
      ],
      "metadata": {
        "id": "jBc4b6e9OLUw"
      },
      "execution_count": 13,
      "outputs": []
    },
    {
      "cell_type": "code",
      "execution_count": 14,
      "metadata": {
        "id": "iECw1e3QyfKq"
      },
      "outputs": [],
      "source": [
        "#X_train, X_val, y_train, y_val = train_test_split(normalized_dataset, Y, test_size=0.4,stratify=Y ,random_state=42)\n",
        "X_train, X_val, y_train, y_val = train_test_split(normalized_dataset, Y, test_size=0.3,stratify=Y ,random_state=42)\n",
        "#X_train, X_val, y_train, y_val = train_test_split(normalized_dataset, y_train_resampled, test_size=0.2,stratify=y_train_resampled ,random_state=42)\n",
        "\n"
      ]
    },
    {
      "cell_type": "code",
      "source": [
        "X_train_reshaped = X_train.reshape((X_train.shape[0], -1))  # Aplatir les dimensions sauf la première\n",
        "X_val_reshaped   = X_val.reshape((X_val.shape[0], -1))\n",
        "print(X_train_reshaped.shape)\n",
        "print(X_val_reshaped.shape)"
      ],
      "metadata": {
        "colab": {
          "base_uri": "https://localhost:8080/"
        },
        "id": "kS6jmakKDkbS",
        "outputId": "b250a2ef-4176-4505-9d15-226ce64622af"
      },
      "execution_count": 15,
      "outputs": [
        {
          "output_type": "stream",
          "name": "stdout",
          "text": [
            "(662, 140000)\n",
            "(284, 140000)\n"
          ]
        }
      ]
    },
    {
      "cell_type": "code",
      "source": [
        "# Initialisation de Borderline-SMOTE\n",
        "borderline_smote = BorderlineSMOTE()\n",
        "X_train_resampled, y_train_resampled = borderline_smote.fit_resample(X_train_reshaped,y_train)\n",
        "X_val_resampled, y_val_resampled = borderline_smote.fit_resample(X_val_reshaped, y_val)\n",
        "#Initialisation de smote\n",
        "# smote = SMOTE(random_state=42)\n",
        "# X_train_resampled, y_train_resampled = smote.fit_resample(X_train_reshaped, Y)\n",
        "# X_val_resampled, y_val_resampled = smote.fit_resample(X_val_reshaped, Y)\n",
        "# Reshape du tensor oversampled dans sa forme originale"
      ],
      "metadata": {
        "id": "fv7YNakvD9Wf"
      },
      "execution_count": 16,
      "outputs": []
    },
    {
      "cell_type": "code",
      "source": [
        "# print(\"Performing preprocessings on train set...\")\n",
        "# #print(X_train_resampled.head())\n",
        "# scaler = StandardScaler()\n",
        "# scaler.fit(X_train_resampled)\n",
        "\n",
        "# # Transformer les données d'entraînement et de validation\n",
        "# X_train_resampled = scaler.transform(X_train_resampled)\n",
        "# X_val_resampled = scaler.transform(X_val_resampled)\n",
        "# print('...Done.')\n",
        "# print(X_train_resampled[0:5]) # MUST use this syntax because X_train is a numpy array and not a pandas DataFrame anymore\n",
        "# print()\n",
        "# print('...Done.')\n",
        "# print(X_val_resampled[0:5,:]) # MUST use this syntax because X_test is a numpy array and not a pandas DataFrame anymore\n",
        "# print()"
      ],
      "metadata": {
        "id": "ToivraRQGaGQ"
      },
      "execution_count": 17,
      "outputs": []
    },
    {
      "cell_type": "code",
      "source": [
        "# Reshape du tensor oversampled dans sa forme originale\n",
        "X_train_resampled = X_train_resampled.reshape((-1, 40, 7, 500))\n",
        "X_val_resampled = X_val_resampled.reshape((-1, 40, 7, 500))\n",
        "# Vérifier les dimensions des données\n",
        "print(\"Dimensions du tensor oversampled :\", X_train_resampled.shape)\n",
        "print(\"Dimensions de la target oversampled :\", y_train_resampled.shape)\n",
        "print(\"Dimensions du tensor oversampled (val):\", X_val_resampled.shape)\n",
        "print(\"Dimensions de la target oversampled (val) :\", y_val_resampled.shape)\n",
        "\n",
        "# Remettre en forme les données d'entraînement\n",
        "X_train_resampled = X_train_resampled.reshape(-1, 40, 7, 500)\n",
        "X_val_resampled = X_val_resampled.reshape(-1, 40, 7, 500)\n"
      ],
      "metadata": {
        "colab": {
          "base_uri": "https://localhost:8080/"
        },
        "id": "qn-pkmuYExyQ",
        "outputId": "b077edba-9327-4bf1-d8df-8e10e4d300fd"
      },
      "execution_count": 18,
      "outputs": [
        {
          "output_type": "stream",
          "name": "stdout",
          "text": [
            "Dimensions du tensor oversampled : (1032, 40, 7, 500)\n",
            "Dimensions de la target oversampled : (1032,)\n",
            "Dimensions du tensor oversampled (val): (442, 40, 7, 500)\n",
            "Dimensions de la target oversampled (val) : (442,)\n"
          ]
        }
      ]
    },
    {
      "cell_type": "code",
      "execution_count": 19,
      "metadata": {
        "id": "1n5fZqrO3-Ed"
      },
      "outputs": [],
      "source": [
        "# X_train_reshaped = X_train.reshape((X_train.shape[0], -1))  # Aplatir les dimensions sauf la première\n",
        "# X_val_reshaped   = X_val.reshape((X_val.shape[0], -1))\n",
        "# print(X_train_reshaped.shape)\n",
        "# # Initialisation de Borderline-SMOTE\n",
        "# borderline_smote = BorderlineSMOTE()\n",
        "# X_train_resampled, y_train_resampled = borderline_smote.fit_resample(X_train_reshaped,y_train)\n",
        "# X_val_resampled, y_val_resampled = borderline_smote.fit_resample(X_val_reshaped, y_val)\n",
        "# #Initialisation de smote\n",
        "# # smote = SMOTE(random_state=42)\n",
        "# # X_train_resampled, y_train_resampled = smote.fit_resample(X_train_reshaped, Y)\n",
        "# # X_val_resampled, y_val_resampled = smote.fit_resample(X_val_reshaped, Y)\n",
        "# # Reshape du tensor oversampled dans sa forme originale\n",
        "# X_train_resampled = X_train_resampled.reshape((-1, 40, 7, 500))\n",
        "# X_val_resampled = X_val_resampled.reshape((-1, 40, 7, 500))\n",
        "# # Vérifier les dimensions des données\n",
        "# print(\"Dimensions du tensor oversampled :\", X_train_resampled.shape)\n",
        "# print(\"Dimensions de la target oversampled :\", y_train_resampled.shape)\n",
        "# print(\"Dimensions du tensor oversampled (val):\", X_val_resampled.shape)\n",
        "# print(\"Dimensions de la target oversampled (val) :\", y_val_resampled.shape)\n",
        "\n",
        "\n",
        "\n",
        "# # Remettre en forme les données d'entraînement\n",
        "# X_train_resampled = X_train_resampled.reshape(-1, 40, 7, 500)\n",
        "# X_val_resampled = X_val_resampled.reshape(-1, 40, 7, 500)\n"
      ]
    },
    {
      "cell_type": "code",
      "source": [
        "# model_CNN = tf.keras.Sequential([\n",
        "#     tf.keras.layers.Conv2D(128, kernel_size=(3,3), activation='relu', input_shape=(40, 7, 500), padding='same'),\n",
        "#     tf.keras.layers.Dropout (0.15),\n",
        "#     tf.keras.layers.MaxPooling2D((2,2)),\n",
        "#     tf.keras.layers.Conv2D(64, kernel_size=(2,2), activation='relu'),\n",
        "#     tf.keras.layers.Dropout (0.15),\n",
        "#     tf.keras.layers.MaxPooling2D((2,2)),\n",
        "#     tf.keras.layers.Conv2D(filters=32, kernel_size=(1,1), activation='relu'),\n",
        "#     tf.keras.layers.Dropout (0.15),\n",
        "#     tf.keras.layers.Flatten(),\n",
        "#     tf.keras.layers.Dense(512, activation='relu'),\n",
        "#     #tf.keras.layers.Dropout (0.25),\n",
        "#     tf.keras.layers.Dense(256, activation='relu'),\n",
        "#     #tf.keras.layers.Dropout (0.25),\n",
        "#     tf.keras.layers.Dense(2, activation='softmax')\n",
        "#     ])"
      ],
      "metadata": {
        "id": "BH1icC4DeG3n"
      },
      "execution_count": 20,
      "outputs": []
    },
    {
      "cell_type": "code",
      "source": [
        "#Model_1\n",
        "# model_CNN = tf.keras.Sequential([\n",
        "#     tf.keras.layers.Conv2D(filters=100, kernel_size=(3, 3), activation='relu', input_shape=(40,7,500), padding='same'),\n",
        "#     tf.keras.layers.Dropout(0.25),\n",
        "#     tf.keras.layers.MaxPooling2D(pool_size=(2, 2)),\n",
        "\n",
        "#     tf.keras.layers.Conv2D(filters=100, kernel_size=(3, 3), activation='relu', padding='same'),\n",
        "#     tf.keras.layers.MaxPooling2D(pool_size=(2, 2)),\n",
        "#     #tf.keras.layers.Dropout(0.25),\n",
        "#     tf.keras.layers.Conv2D(filters=50, kernel_size=(1, 1), activation='relu'),\n",
        "#     # tf.keras.layers.MaxPooling2D(pool_size=(1, 1)),\n",
        "#     # tf.keras.layers.Conv2D(filters=50, kernel_size=(1, 1), activation='relu'),\n",
        "#     tf.keras.layers.Dropout(0.25),\n",
        "#     tf.keras.layers.Flatten(),\n",
        "#     tf.keras.layers.Dense(256, activation='relu'),\n",
        "#     tf.keras.layers.Dense(512, activation='relu'),\n",
        "#     tf.keras.layers.Dense(2, activation='softmax')\n",
        "# ])\n"
      ],
      "metadata": {
        "id": "IaVybol1QbdV"
      },
      "execution_count": 21,
      "outputs": []
    },
    {
      "cell_type": "code",
      "source": [
        "# model_CNN = tf.keras.Sequential([\n",
        "#     tf.keras.layers.Conv2D(32, kernel_size=(3, 3), activation='relu', input_shape=(40, 7, 500), padding='same'),\n",
        "#     tf.keras.layers.MaxPooling2D((2,2)),\n",
        "#     #tf.keras.layers.BatchNormalization(),\n",
        "#     tf.keras.layers.Dropout(0.5),\n",
        "#     tf.keras.layers.Conv2D(64, kernel_size=(2, 2), activation='relu', padding='same'),\n",
        "#     tf.keras.layers.MaxPooling2D((2,2)),\n",
        "#     #tf.keras.layers.BatchNormalization(),\n",
        "#     tf.keras.layers.Dropout(0.5),\n",
        "#     tf.keras.layers.Conv2D(128, kernel_size=(1, 1), activation='relu'),\n",
        "#     tf.keras.layers.Dropout(0.5),\n",
        "#     tf.keras.layers.Flatten(),\n",
        "#     tf.keras.layers.Dense(256, activation='relu'),\n",
        "#     tf.keras.layers.Dense(512, activation='relu'),\n",
        "#     tf.keras.layers.Dense(2, activation='softmax')  # Modification de la sortie pour 2 classes\n",
        "# ])\n"
      ],
      "metadata": {
        "id": "UL4tPM6J5MHP"
      },
      "execution_count": 22,
      "outputs": []
    },
    {
      "cell_type": "code",
      "execution_count": 23,
      "metadata": {
        "id": "uZ7JST6goG66"
      },
      "outputs": [],
      "source": [
        "model_CNN = tf.keras.Sequential([\n",
        "\n",
        "    tf.keras.layers.Conv1D(filters=100,kernel_size =3,activation ='relu', input_shape =(40, 7, 500) , padding ='same'),\n",
        "    tf.keras.layers.MaxPooling2D(pool_size =2),\n",
        "    tf.keras.layers.Conv1D(filters=100,kernel_size=1,activation ='relu'),\n",
        "    tf.keras.layers.Conv1D(filters=100,kernel_size=1,activation ='relu'),\n",
        "\n",
        "    tf.keras.layers.Dropout (0.25),\n",
        "    tf.keras.layers.Flatten (),\n",
        "    tf.keras.layers.Dense(256, activation='relu'),\n",
        "    tf.keras.layers.Dropout(0.15),\n",
        "    tf.keras.layers.Dense(512, activation='relu'),\n",
        "    # #tf.keras.layers.Dropout(0.15),\n",
        "    # #tf.keras.layers.Dense(1, activation='sigmoid')\n",
        "    tf.keras.layers.Dense(2, activation='softmax')\n",
        "    ])\n"
      ]
    },
    {
      "cell_type": "code",
      "source": [
        "model_CNN.summary()\n"
      ],
      "metadata": {
        "colab": {
          "base_uri": "https://localhost:8080/"
        },
        "id": "cDOH1Pavs8nF",
        "outputId": "e8365d29-b34c-4d91-9fbd-91c6422eea68"
      },
      "execution_count": 24,
      "outputs": [
        {
          "output_type": "stream",
          "name": "stdout",
          "text": [
            "Model: \"sequential\"\n",
            "_________________________________________________________________\n",
            " Layer (type)                Output Shape              Param #   \n",
            "=================================================================\n",
            " conv1d (Conv1D)             (None, 40, 7, 100)        150100    \n",
            "                                                                 \n",
            " max_pooling2d (MaxPooling2  (None, 20, 3, 100)        0         \n",
            " D)                                                              \n",
            "                                                                 \n",
            " conv1d_1 (Conv1D)           (None, 20, 3, 100)        10100     \n",
            "                                                                 \n",
            " conv1d_2 (Conv1D)           (None, 20, 3, 100)        10100     \n",
            "                                                                 \n",
            " dropout (Dropout)           (None, 20, 3, 100)        0         \n",
            "                                                                 \n",
            " flatten (Flatten)           (None, 6000)              0         \n",
            "                                                                 \n",
            " dense (Dense)               (None, 256)               1536256   \n",
            "                                                                 \n",
            " dropout_1 (Dropout)         (None, 256)               0         \n",
            "                                                                 \n",
            " dense_1 (Dense)             (None, 512)               131584    \n",
            "                                                                 \n",
            " dense_2 (Dense)             (None, 2)                 1026      \n",
            "                                                                 \n",
            "=================================================================\n",
            "Total params: 1839166 (7.02 MB)\n",
            "Trainable params: 1839166 (7.02 MB)\n",
            "Non-trainable params: 0 (0.00 Byte)\n",
            "_________________________________________________________________\n"
          ]
        }
      ]
    },
    {
      "cell_type": "code",
      "source": [
        "# Convertir les étiquettes d'entraînement et de validation en format catégoriel\n",
        "y_train_resampled_categorical = tf.keras.utils.to_categorical(y_train_resampled, num_classes=2)\n",
        "y_val_resampled_categorical = tf.keras.utils.to_categorical(y_val_resampled, num_classes=2)"
      ],
      "metadata": {
        "id": "3qZDk-H66AKP"
      },
      "execution_count": 25,
      "outputs": []
    },
    {
      "cell_type": "code",
      "execution_count": 26,
      "metadata": {
        "id": "SZABMxPzY_Lg",
        "colab": {
          "base_uri": "https://localhost:8080/"
        },
        "outputId": "576fab39-360f-4241-fca1-2ec85fc8ecf8"
      },
      "outputs": [
        {
          "output_type": "stream",
          "name": "stdout",
          "text": [
            "Epoch 1/10\n",
            "129/129 [==============================] - 15s 105ms/step - loss: 0.9323 - accuracy: 0.5010 - val_loss: 0.7464 - val_accuracy: 0.5158\n",
            "Epoch 2/10\n",
            "129/129 [==============================] - 21s 167ms/step - loss: 0.8278 - accuracy: 0.5136 - val_loss: 0.7172 - val_accuracy: 0.5656\n",
            "Epoch 3/10\n",
            "129/129 [==============================] - 13s 97ms/step - loss: 0.7930 - accuracy: 0.5262 - val_loss: 0.7134 - val_accuracy: 0.5724\n",
            "Epoch 4/10\n",
            "129/129 [==============================] - 12s 94ms/step - loss: 0.7704 - accuracy: 0.5262 - val_loss: 0.7125 - val_accuracy: 0.5882\n",
            "Epoch 5/10\n",
            "129/129 [==============================] - 13s 98ms/step - loss: 0.7583 - accuracy: 0.5368 - val_loss: 0.7121 - val_accuracy: 0.5995\n",
            "Epoch 6/10\n",
            "129/129 [==============================] - 10s 81ms/step - loss: 0.7482 - accuracy: 0.5523 - val_loss: 0.7110 - val_accuracy: 0.6018\n",
            "Epoch 7/10\n",
            "129/129 [==============================] - 13s 99ms/step - loss: 0.7461 - accuracy: 0.5688 - val_loss: 0.7087 - val_accuracy: 0.6018\n",
            "Epoch 8/10\n",
            "129/129 [==============================] - 12s 95ms/step - loss: 0.7463 - accuracy: 0.5543 - val_loss: 0.7070 - val_accuracy: 0.6018\n",
            "Epoch 9/10\n",
            "129/129 [==============================] - 12s 97ms/step - loss: 0.7411 - accuracy: 0.5591 - val_loss: 0.7061 - val_accuracy: 0.6041\n",
            "Epoch 10/10\n",
            "129/129 [==============================] - 12s 94ms/step - loss: 0.7215 - accuracy: 0.5669 - val_loss: 0.7044 - val_accuracy: 0.6041\n"
          ]
        }
      ],
      "source": [
        "#optimizer = tf.keras.optimizers.Adam()#, beta_1=0.9, beta_2=0.999, epsilon=1e-8)\n",
        "optimizer = tf.keras.optimizers.Adadelta()\n",
        "#optimizer = tf.keras.optimizers.Adamax(learning_rate=0.002, beta_1=0.99, beta_2=0.999, epsilon=1e-8)\n",
        "#model_CNN.compile(optimizer=optimizer, loss='binary_crossentropy', metrics=['accuracy'])\n",
        "model_CNN.compile(optimizer=optimizer, loss='categorical_crossentropy', metrics=['accuracy'])\n",
        "early_stopping = EarlyStopping(monitor='val_loss', patience=3, restore_best_weights=True)#,callbacks=[early_stopping]\n",
        "m = model_CNN.fit(X_train_resampled, y_train_resampled_categorical, epochs=10, batch_size=8, validation_data=(X_val_resampled, y_val_resampled_categorical))#,callbacks=[early_stopping])\n"
      ]
    },
    {
      "cell_type": "code",
      "source": [
        "plt.figure(figsize=(12, 6))\n",
        "plt.subplot(1, 2, 1)\n",
        "plt.plot(m.history[\"loss\"], color=\"b\")\n",
        "plt.plot(m.history[\"val_loss\"], color=\"r\")\n",
        "plt.ylabel(\"loss\")\n",
        "plt.xlabel(\"Epochs\")\n",
        "plt.legend(labels=['loss','val_loss'])\n",
        "# Visualization of accuracy training\n",
        "plt.subplot(1, 2, 2)\n",
        "plt.plot(m.history[\"accuracy\"], color=\"b\")\n",
        "plt.plot(m.history[\"val_accuracy\"], color=\"r\")\n",
        "plt.ylabel(\"Accuracy\")\n",
        "plt.xlabel(\"Epochs\")\n",
        "plt.legend(labels=['accuracy','val_accuracy'])"
      ],
      "metadata": {
        "colab": {
          "base_uri": "https://localhost:8080/",
          "height": 560
        },
        "id": "ERegVrKctQtY",
        "outputId": "a1ce65c1-d8fc-476f-95ec-19695269a047"
      },
      "execution_count": 27,
      "outputs": [
        {
          "output_type": "execute_result",
          "data": {
            "text/plain": [
              "<matplotlib.legend.Legend at 0x7ce881695bd0>"
            ]
          },
          "metadata": {},
          "execution_count": 27
        },
        {
          "output_type": "display_data",
          "data": {
            "text/plain": [
              "<Figure size 1200x600 with 2 Axes>"
            ],
            "image/png": "[encoded data removed]"
          },
          "metadata": {}
        }
      ]
    },
    {
      "cell_type": "code",
      "source": [
        "from sklearn.metrics import confusion_matrix, recall_score, f1_score\n",
        "\n",
        "# Prédiction sur les données de validation\n",
        "y_pred = model_CNN.predict(dataset_test)\n",
        "y_pred\n",
        "# Convertir les probabilités en classes prédites (0 ou 1)\n",
        "#y_pred_classes = (y_pred > 0.5).astype(int)\n",
        "y_pred_classes = np.argmax(y_pred, axis=1)  # Convertir les probabilités en classes prédites (argmax)\n",
        "\n",
        "# Calculer la matrice de confusion\n",
        "y_test=y_set.drop('id', axis=1)\n",
        "conf_matrix = confusion_matrix(y_test, y_pred_classes)\n",
        "# Afficher la matrice de confusion sous forme de heatmap\n",
        "plt.figure(figsize=(4, 3))\n",
        "sns.heatmap(conf_matrix, annot=True, fmt='d', cmap='Blues', xticklabels=['Homme', 'Femme'], yticklabels=['Homme', 'Femme'], cbar=False)\n",
        "plt.xlabel('Prédictions')\n",
        "plt.ylabel('Vraies étiquettes')\n",
        "plt.title('Matrice de confusion')\n",
        "plt.show()\n",
        "\n"
      ],
      "metadata": {
        "colab": {
          "base_uri": "https://localhost:8080/",
          "height": 351
        },
        "id": "bw-bryt7tRn9",
        "outputId": "15b12e34-0195-44e5-8cb5-056e0801c56e"
      },
      "execution_count": 29,
      "outputs": [
        {
          "output_type": "stream",
          "name": "stdout",
          "text": [
            "30/30 [==============================] - 5s 153ms/step\n"
          ]
        },
        {
          "output_type": "display_data",
          "data": {
            "text/plain": [
              "<Figure size 400x300 with 1 Axes>"
            ],
            "image/png": "[encoded data removed]"
          },
          "metadata": {}
        }
      ]
    },
    {
      "cell_type": "code",
      "source": [
        "# Calculer le rappel (recall) pour la classe positive (1)\n",
        "recall = recall_score(y_test, y_pred_classes)\n",
        "print(\"Rappel (recall) :\", recall)\n",
        "\n",
        "# Calculer le score F1\n",
        "f1 = f1_score(y_test, y_pred_classes)\n",
        "print(\"Score F1 :\", f1)\n",
        "\n"
      ],
      "metadata": {
        "colab": {
          "base_uri": "https://localhost:8080/"
        },
        "id": "38PV-jIXpqx6",
        "outputId": "ecae1671-4ac9-4ee7-a828-b638d0a6733c"
      },
      "execution_count": 30,
      "outputs": [
        {
          "output_type": "stream",
          "name": "stdout",
          "text": [
            "Rappel (recall) : 0.5167464114832536\n",
            "Score F1 : 0.30945558739255014\n"
          ]
        }
      ]
    },
    {
      "cell_type": "markdown",
      "metadata": {
        "id": "yRG9MDlt5ixq"
      },
      "source": [
        "#Les param\n",
        "##learning_rate :\n",
        "Taux d'apprentissage, qui contrôle la taille des pas effectués lors de la mise à jour des poids du réseau neuronal pendant l'entraînement. Il définit la vitesse à laquelle le modèle apprend à partir des données.\n",
        "\n",
        "##beta_1 :\n",
        "Le paramètre de décroissance exponentielle pour les estimations de premier ordre. C'est le taux auquel l'estimation moyenne mobile du gradient de premier ordre est mise à jour.\n",
        "\n",
        "##beta_2 :\n",
        "Le paramètre de décroissance exponentielle pour les estimations de second ordre. C'est le taux auquel l'estimation moyenne mobile du gradient de second ordre est mise à jour.\n",
        "\n",
        "##epsilon :\n",
        " Un petit nombre ajouté au dénominateur pour éviter la division par zéro lors du calcul des mises à jour des poids.\n",
        "\n"
      ]
    }
  ],
  "metadata": {
    "accelerator": "GPU",
    "colab": {
      "gpuType": "T4",
      "provenance": []
    },
    "kernelspec": {
      "display_name": "Python 3",
      "name": "python3"
    },
    "language_info": {
      "name": "python"
    }
  },
  "nbformat": 4,
  "nbformat_minor": 0
}